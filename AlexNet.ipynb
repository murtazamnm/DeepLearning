{
 "cells": [
  {
   "cell_type": "markdown",
   "metadata": {
    "id": "9xPfgTCxpev8"
   },
   "source": [
    "# Assignment 1 - Image Classification\n",
    "\n",
    "This notebook contains the required task for the first assignment of the Deep Network Development course. Read the task description and implement the empty code cells. Each section represents a stage along implementing an image classifier, from loading and inspecting the dataset to training a **pre-trained** Convolutional Neural Network architecture. The sections are to guide you but you do not have to follow that specific order. \n",
    "\n",
    "Copy this notebook to your drive (File -> Save a copy in Drive), edit it and upload the final ipynb file to [Canvas](https://canvas.elte.hu) or upload the link to the Colab notebook itself. If you have your own machine with Jupyter installed, you can work there as well.\n",
    "\n",
    "**Note** Make sure the notebook is using GPU accelerataion in Edit -> Notebook settings, otherwise training and evaluation can be very slow.\n",
    "\n",
    "## Rules and Comments\n",
    "- From the list of datasets and architectures listed in canvas, each student was atributed **1 dataset and 1 architecture** to use within this assignment. Please confirm yours in the Canvas assignment's description. \n",
    "- This is an DL class so to pass the homework you do have to implement a working classifier, just loading the data or having a \"random-guess\" performance is not enough.\n",
    "- As always, copying others' code will make you fail the homework automatically (and thus the course). \n",
    "- **Deadline is October 19**\n",
    "- Make sure your code can be run from an empty state (use Runtime -> Run all in the menu after restarting the notebook)\n",
    "- Feel free to add more code cells as needed. But don't put code into external Python files to ease the reviewing.\n",
    "- Please add your name and Neptun ID below for easier identification.\n",
    "\n",
    "**Name: Dar Mortaza Ali**  \n",
    "**Neptun ID: YLEU5X** \n",
    "\n",
    "## Task description\n",
    "Your task is to train an already pretrained Convolutional Neural Network architecture on a dataset, both given in canvas. The datasets contain images as input and class labels as target, thus you have to solve a Supervised Machine Learning Classification problem. \n",
    "\n",
    "The dataset shoud be divided into train, validation and test set, for which results should be presented for all.\n",
    "\n",
    "You can either train the architecture you were given without changing its layers, or you can add more layers, if you believe it increases the accuracy. There is no expected percentage of accuracy, but **your accuracy should be better than random guessing and your loss has to decrease throughout the epochs**. We expect you to show visualisations (any of the following: matplotlib, seaborn, tensorboard, ...) of the accuracy and loss and use Early stopping while training your network.\n",
    "\n"
   ]
  },
  {
   "cell_type": "markdown",
   "metadata": {
    "id": "vR0con3OuFBM"
   },
   "source": [
    "## 0. Import libraries\n",
    "Import all libraries/packages that you believe will help you fulfil the task, but **for the network only PyTorch can be used.**"
   ]
  },
  {
   "cell_type": "code",
   "execution_count": 1,
   "metadata": {
    "id": "lyGWby4VpNMC"
   },
   "outputs": [
    {
     "ename": "ModuleNotFoundError",
     "evalue": "No module named 'torchvision'",
     "output_type": "error",
     "traceback": [
      "\u001b[0;31m---------------------------------------------------------------------------\u001b[0m",
      "\u001b[0;31mModuleNotFoundError\u001b[0m                       Traceback (most recent call last)",
      "Cell \u001b[0;32mIn [1], line 4\u001b[0m\n\u001b[1;32m      2\u001b[0m \u001b[38;5;28;01mimport\u001b[39;00m \u001b[38;5;21;01mtorch\u001b[39;00m\u001b[38;5;21;01m.\u001b[39;00m\u001b[38;5;21;01mnn\u001b[39;00m \u001b[38;5;28;01mas\u001b[39;00m \u001b[38;5;21;01mnn\u001b[39;00m\n\u001b[1;32m      3\u001b[0m \u001b[38;5;28;01mimport\u001b[39;00m \u001b[38;5;21;01mnumpy\u001b[39;00m \u001b[38;5;28;01mas\u001b[39;00m \u001b[38;5;21;01mnp\u001b[39;00m\n\u001b[0;32m----> 4\u001b[0m \u001b[38;5;28;01mimport\u001b[39;00m \u001b[38;5;21;01mtorchvision\u001b[39;00m\n\u001b[1;32m      5\u001b[0m \u001b[38;5;28;01mimport\u001b[39;00m \u001b[38;5;21;01mtorch\u001b[39;00m\u001b[38;5;21;01m.\u001b[39;00m\u001b[38;5;21;01moptim\u001b[39;00m \u001b[38;5;28;01mas\u001b[39;00m \u001b[38;5;21;01moptim\u001b[39;00m\n\u001b[1;32m      6\u001b[0m \u001b[38;5;28;01mfrom\u001b[39;00m \u001b[38;5;21;01mtorchvision\u001b[39;00m \u001b[38;5;28;01mimport\u001b[39;00m datasets, models, transforms\n",
      "\u001b[0;31mModuleNotFoundError\u001b[0m: No module named 'torchvision'"
     ]
    }
   ],
   "source": [
    "import torch\n",
    "import torch.nn as nn\n",
    "import numpy as np\n",
    "import torchvision\n",
    "import torch.optim as optim\n",
    "from torchvision import datasets, models, transforms\n",
    "from keras.regularizers import l2\n",
    "from keras.optimizers import SGD\n",
    "from keras.optimizers import Adam\n",
    "import matplotlib.pyplot as plt\n",
    "import PIL.Image as Image\n",
    "import copy\n",
    "from torch.optim import lr_scheduler\n",
    "import time\n",
    "import os\n",
    "from IPython.display import display\n",
    "import random"
   ]
  },
  {
   "cell_type": "code",
   "execution_count": 2,
   "metadata": {},
   "outputs": [
    {
     "name": "stdout",
     "output_type": "stream",
     "text": [
      "Defaulting to user installation because normal site-packages is not writeable\n",
      "Collecting torch\n",
      "  Downloading torch-1.12.1-cp310-cp310-manylinux1_x86_64.whl (776.3 MB)\n",
      "\u001b[2K     \u001b[38;2;114;156;31m━━━━━━━━━━━━━━━━━━━━━━━━━━━━━━━━━━━━━\u001b[0m \u001b[32m776.3/776.3 MB\u001b[0m \u001b[31m544.3 kB/s\u001b[0m eta \u001b[36m0:00:00\u001b[0mm eta \u001b[36m0:00:01\u001b[0m[36m0:00:03\u001b[0m\n",
      "\u001b[?25hRequirement already satisfied: typing-extensions in /usr/lib/python3.10/site-packages (from torch) (4.3.0)\n",
      "Installing collected packages: torch\n",
      "Successfully installed torch-1.12.1\n",
      "Note: you may need to restart the kernel to use updated packages.\n"
     ]
    }
   ],
   "source": [
    "pip install torch"
   ]
  },
  {
   "cell_type": "markdown",
   "metadata": {
    "id": "o1tucmxFuklk"
   },
   "source": [
    "## 1. Dataset \n",
    "Load the dataset you were given. Images should be stored in an X variable and your labels in a Y variable. Split your dataset into train, validation and test set and pre-process your data for training."
   ]
  },
  {
   "cell_type": "markdown",
   "metadata": {
    "id": "ossmpkq9vfrL"
   },
   "source": [
    "#### Loading the dataset\n",
    "Show some images and labels of your dataset"
   ]
  },
  {
   "cell_type": "code",
   "execution_count": 2,
   "metadata": {
    "colab": {
     "base_uri": "https://localhost:8080/",
     "height": 404
    },
    "id": "5ng7Hn_gul3J",
    "outputId": "0a0c0bb0-8121-4b86-f194-dc560f6587be"
   },
   "outputs": [
    {
     "data": {
      "text/html": [
       "\n",
       "     <input type=\"file\" id=\"files-12170c2d-d9cd-49d0-bf49-e3141bfcc6e5\" name=\"files[]\" multiple disabled\n",
       "        style=\"border:none\" />\n",
       "     <output id=\"result-12170c2d-d9cd-49d0-bf49-e3141bfcc6e5\">\n",
       "      Upload widget is only available when the cell has been executed in the\n",
       "      current browser session. Please rerun this cell to enable.\n",
       "      </output>\n",
       "      <script>// Copyright 2017 Google LLC\n",
       "//\n",
       "// Licensed under the Apache License, Version 2.0 (the \"License\");\n",
       "// you may not use this file except in compliance with the License.\n",
       "// You may obtain a copy of the License at\n",
       "//\n",
       "//      http://www.apache.org/licenses/LICENSE-2.0\n",
       "//\n",
       "// Unless required by applicable law or agreed to in writing, software\n",
       "// distributed under the License is distributed on an \"AS IS\" BASIS,\n",
       "// WITHOUT WARRANTIES OR CONDITIONS OF ANY KIND, either express or implied.\n",
       "// See the License for the specific language governing permissions and\n",
       "// limitations under the License.\n",
       "\n",
       "/**\n",
       " * @fileoverview Helpers for google.colab Python module.\n",
       " */\n",
       "(function(scope) {\n",
       "function span(text, styleAttributes = {}) {\n",
       "  const element = document.createElement('span');\n",
       "  element.textContent = text;\n",
       "  for (const key of Object.keys(styleAttributes)) {\n",
       "    element.style[key] = styleAttributes[key];\n",
       "  }\n",
       "  return element;\n",
       "}\n",
       "\n",
       "// Max number of bytes which will be uploaded at a time.\n",
       "const MAX_PAYLOAD_SIZE = 100 * 1024;\n",
       "\n",
       "function _uploadFiles(inputId, outputId) {\n",
       "  const steps = uploadFilesStep(inputId, outputId);\n",
       "  const outputElement = document.getElementById(outputId);\n",
       "  // Cache steps on the outputElement to make it available for the next call\n",
       "  // to uploadFilesContinue from Python.\n",
       "  outputElement.steps = steps;\n",
       "\n",
       "  return _uploadFilesContinue(outputId);\n",
       "}\n",
       "\n",
       "// This is roughly an async generator (not supported in the browser yet),\n",
       "// where there are multiple asynchronous steps and the Python side is going\n",
       "// to poll for completion of each step.\n",
       "// This uses a Promise to block the python side on completion of each step,\n",
       "// then passes the result of the previous step as the input to the next step.\n",
       "function _uploadFilesContinue(outputId) {\n",
       "  const outputElement = document.getElementById(outputId);\n",
       "  const steps = outputElement.steps;\n",
       "\n",
       "  const next = steps.next(outputElement.lastPromiseValue);\n",
       "  return Promise.resolve(next.value.promise).then((value) => {\n",
       "    // Cache the last promise value to make it available to the next\n",
       "    // step of the generator.\n",
       "    outputElement.lastPromiseValue = value;\n",
       "    return next.value.response;\n",
       "  });\n",
       "}\n",
       "\n",
       "/**\n",
       " * Generator function which is called between each async step of the upload\n",
       " * process.\n",
       " * @param {string} inputId Element ID of the input file picker element.\n",
       " * @param {string} outputId Element ID of the output display.\n",
       " * @return {!Iterable<!Object>} Iterable of next steps.\n",
       " */\n",
       "function* uploadFilesStep(inputId, outputId) {\n",
       "  const inputElement = document.getElementById(inputId);\n",
       "  inputElement.disabled = false;\n",
       "\n",
       "  const outputElement = document.getElementById(outputId);\n",
       "  outputElement.innerHTML = '';\n",
       "\n",
       "  const pickedPromise = new Promise((resolve) => {\n",
       "    inputElement.addEventListener('change', (e) => {\n",
       "      resolve(e.target.files);\n",
       "    });\n",
       "  });\n",
       "\n",
       "  const cancel = document.createElement('button');\n",
       "  inputElement.parentElement.appendChild(cancel);\n",
       "  cancel.textContent = 'Cancel upload';\n",
       "  const cancelPromise = new Promise((resolve) => {\n",
       "    cancel.onclick = () => {\n",
       "      resolve(null);\n",
       "    };\n",
       "  });\n",
       "\n",
       "  // Wait for the user to pick the files.\n",
       "  const files = yield {\n",
       "    promise: Promise.race([pickedPromise, cancelPromise]),\n",
       "    response: {\n",
       "      action: 'starting',\n",
       "    }\n",
       "  };\n",
       "\n",
       "  cancel.remove();\n",
       "\n",
       "  // Disable the input element since further picks are not allowed.\n",
       "  inputElement.disabled = true;\n",
       "\n",
       "  if (!files) {\n",
       "    return {\n",
       "      response: {\n",
       "        action: 'complete',\n",
       "      }\n",
       "    };\n",
       "  }\n",
       "\n",
       "  for (const file of files) {\n",
       "    const li = document.createElement('li');\n",
       "    li.append(span(file.name, {fontWeight: 'bold'}));\n",
       "    li.append(span(\n",
       "        `(${file.type || 'n/a'}) - ${file.size} bytes, ` +\n",
       "        `last modified: ${\n",
       "            file.lastModifiedDate ? file.lastModifiedDate.toLocaleDateString() :\n",
       "                                    'n/a'} - `));\n",
       "    const percent = span('0% done');\n",
       "    li.appendChild(percent);\n",
       "\n",
       "    outputElement.appendChild(li);\n",
       "\n",
       "    const fileDataPromise = new Promise((resolve) => {\n",
       "      const reader = new FileReader();\n",
       "      reader.onload = (e) => {\n",
       "        resolve(e.target.result);\n",
       "      };\n",
       "      reader.readAsArrayBuffer(file);\n",
       "    });\n",
       "    // Wait for the data to be ready.\n",
       "    let fileData = yield {\n",
       "      promise: fileDataPromise,\n",
       "      response: {\n",
       "        action: 'continue',\n",
       "      }\n",
       "    };\n",
       "\n",
       "    // Use a chunked sending to avoid message size limits. See b/62115660.\n",
       "    let position = 0;\n",
       "    do {\n",
       "      const length = Math.min(fileData.byteLength - position, MAX_PAYLOAD_SIZE);\n",
       "      const chunk = new Uint8Array(fileData, position, length);\n",
       "      position += length;\n",
       "\n",
       "      const base64 = btoa(String.fromCharCode.apply(null, chunk));\n",
       "      yield {\n",
       "        response: {\n",
       "          action: 'append',\n",
       "          file: file.name,\n",
       "          data: base64,\n",
       "        },\n",
       "      };\n",
       "\n",
       "      let percentDone = fileData.byteLength === 0 ?\n",
       "          100 :\n",
       "          Math.round((position / fileData.byteLength) * 100);\n",
       "      percent.textContent = `${percentDone}% done`;\n",
       "\n",
       "    } while (position < fileData.byteLength);\n",
       "  }\n",
       "\n",
       "  // All done.\n",
       "  yield {\n",
       "    response: {\n",
       "      action: 'complete',\n",
       "    }\n",
       "  };\n",
       "}\n",
       "\n",
       "scope.google = scope.google || {};\n",
       "scope.google.colab = scope.google.colab || {};\n",
       "scope.google.colab._files = {\n",
       "  _uploadFiles,\n",
       "  _uploadFilesContinue,\n",
       "};\n",
       "})(self);\n",
       "</script> "
      ],
      "text/plain": [
       "<IPython.core.display.HTML object>"
      ]
     },
     "metadata": {},
     "output_type": "display_data"
    },
    {
     "name": "stdout",
     "output_type": "stream",
     "text": [
      "Saving kaggle.json to kaggle.json\n",
      "Downloading stanford-car-dataset-by-classes-folder.zip to /content\n",
      " 99% 1.81G/1.83G [00:09<00:00, 281MB/s]\n",
      "100% 1.83G/1.83G [00:09<00:00, 196MB/s]\n",
      "Unziped AM General Hummer SUV 2000 class\n",
      "Unziped Acura Integra Type R 2001 class\n",
      "Unziped Audi TT RS Coupe 2012 class\n",
      "Unziped BMW X3 SUV 2012 class\n",
      "Unziped BMW X5 SUV 2007 class\n",
      "Unziped Ferrari FF Coupe 2012 class\n",
      "Unziped McLaren MP4-12C Coupe 2012 class\n",
      "Unziped Land Rover LR2 SUV 2012 class\n",
      "Unziped Lamborghini Aventador Coupe 2012 class\n",
      "Unziped Jeep Compass SUV 2012 class\n",
      "Unziped Tesla Model S Sedan 2012 class\n",
      "Unziped Scion xD Hatchback 2012 class\n",
      "Unziped Rolls-Royce Phantom Sedan 2012 class\n",
      "Unziped Porsche Panamera Sedan 2012 class\n",
      "Unziped Mercedes-Benz Sprinter Van 2012 class\n"
     ]
    }
   ],
   "source": [
    "! pip install -q kaggle\n",
    "from google.colab import files\n",
    "files.upload()\n",
    "\n",
    "! mkdir ~/.kaggle\n",
    "! cp kaggle.json ~/.kaggle/\n",
    "! chmod 600 ~/.kaggle/kaggle.json\n",
    "# ! kaggle datasets list\n",
    "\n",
    "# import shutil\n",
    "# shutil.rmtree('/content/cars')\n",
    "\n",
    "! mkdir ./cars\n",
    "! mkdir ./cars/test\n",
    "! mkdir ./cars/train\n",
    "! kaggle datasets download -d jutrera/stanford-car-dataset-by-classes-folder\n",
    "\n",
    "def cleanSpaces(word):\n",
    "  if \" \" in word:\n",
    "    nWord = \"\".join([  letter if letter != \" \" else  \"-\" for letter in word ])\n",
    "    return nWord\n",
    "  else:\n",
    "    return word\n",
    "\n",
    "# pre-select the classes to use\n",
    "classes_m = [\"AM General Hummer SUV 2000\", \"Acura Integra Type R 2001\",\n",
    "             \"Audi TT RS Coupe 2012\",\"BMW X3 SUV 2012\", \"BMW X5 SUV 2007\", \"Ferrari FF Coupe 2012\",\n",
    "             \"McLaren MP4-12C Coupe 2012\",\"Land Rover LR2 SUV 2012\",\"Lamborghini Aventador Coupe 2012\",\n",
    "             \"Jeep Compass SUV 2012\",\"Tesla Model S Sedan 2012\",\"Scion xD Hatchback 2012\",\n",
    "             \"Rolls-Royce Phantom Sedan 2012\",\"Porsche Panamera Sedan 2012\",\"Mercedes-Benz Sprinter Van 2012\"]\n",
    "\n",
    "# Unzip only the neccesary classes \n",
    "for clas in classes_m:\n",
    "   s = f'unzip -j \"/content/stanford-car-dataset-by-classes-folder.zip\" \"car_data/car_data/test/{clas}/*\" -d \"/content/cars/test/{cleanSpaces(clas)}\"'\n",
    "   os.system(s)\n",
    "   s = f'unzip -j \"/content/stanford-car-dataset-by-classes-folder.zip\" \"car_data/car_data/train/{clas}/*\" -d \"/content/cars/train/{cleanSpaces(clas)}\"'\n",
    "   os.system(s)\n",
    "   print(f\"Unziped {clas} class\")\n",
    "\n"
   ]
  },
  {
   "cell_type": "code",
   "execution_count": 3,
   "metadata": {
    "id": "Vo-AFN4pKx6F"
   },
   "outputs": [],
   "source": [
    "train_dir = \"cars/train\"\n",
    "test_dir = \"cars/test\"\n"
   ]
  },
  {
   "cell_type": "code",
   "execution_count": 57,
   "metadata": {
    "id": "hbqTcG5ByDxZ"
   },
   "outputs": [],
   "source": [
    "\n",
    "train_trans =  transforms.Compose([\n",
    "        transforms.RandomResizedCrop(224),\n",
    "        transforms.RandomHorizontalFlip(),\n",
    "        transforms.ToTensor(),\n",
    "        transforms.Normalize([0.485, 0.456, 0.406], [0.229, 0.224, 0.225])\n",
    "    ])\n",
    "val_trans = transforms.Compose([\n",
    "        transforms.Resize(256),\n",
    "        transforms.CenterCrop(224),\n",
    "        transforms.ToTensor(),\n",
    "        transforms.Normalize([0.485, 0.456, 0.406], [0.229, 0.224, 0.225])\n",
    "    ])\n",
    "test_trans = transforms.Compose([\n",
    "        transforms.Resize(256),\n",
    "        transforms.CenterCrop(224),\n",
    "        transforms.ToTensor(),\n",
    "        transforms.Normalize([0.485, 0.456, 0.406], \n",
    "                             [0.229, 0.224, 0.225])\n",
    "    ])"
   ]
  },
  {
   "cell_type": "markdown",
   "metadata": {
    "id": "bmC8EUVFv0rj"
   },
   "source": [
    "#### Splitting the dataset"
   ]
  },
  {
   "cell_type": "code",
   "execution_count": 77,
   "metadata": {
    "id": "_uMNfQ7sv46r"
   },
   "outputs": [],
   "source": [
    "train_data = torchvision.datasets.ImageFolder(train_dir, transform = train_trans)\n",
    "test_data = torchvision.datasets.ImageFolder(test_dir, transform = test_trans)"
   ]
  },
  {
   "cell_type": "code",
   "execution_count": 78,
   "metadata": {
    "id": "mB0a3kkag8nh"
   },
   "outputs": [],
   "source": [
    "n_test_samples = int(len(test_data) * 0.6)\n",
    "n_valid_samples = len(test_data) - n_test_samples\n",
    "\n",
    "test_data, valid_data = torch.utils.data.random_split(test_data,\n",
    "                                           [n_test_samples, n_valid_samples])\n",
    "valid_data = copy.deepcopy(valid_data)\n",
    "valid_data.dataset.transform = val_trans"
   ]
  },
  {
   "cell_type": "code",
   "execution_count": 79,
   "metadata": {
    "id": "ZLp2SQCHpHDq"
   },
   "outputs": [],
   "source": [
    "#Load\n",
    "BATCH_SIZE = 4\n",
    "num_work = 2\n",
    "train_load = torch.utils.data.DataLoader(train_data,\n",
    "                                 shuffle=True,\n",
    "                                 batch_size=BATCH_SIZE)\n",
    "\n",
    "valid_load = torch.utils.data.DataLoader(valid_data,\n",
    "                                 batch_size=BATCH_SIZE)\n",
    "\n",
    "test_load = torch.utils.data.DataLoader(test_data,\n",
    "                                batch_size=BATCH_SIZE)\n",
    "dataload = {'train': torch.utils.data.DataLoader(train_load, batch_size=BATCH_SIZE, shuffle=True, num_workers=num_work) ,\n",
    "               'val': torch.utils.data.DataLoader(valid_load, batch_size=BATCH_SIZE, shuffle=True, num_workers=num_work)}\n"
   ]
  },
  {
   "cell_type": "markdown",
   "metadata": {
    "id": "GzvWV5SFv4Ml"
   },
   "source": [
    "#### Pre-processing the dataset"
   ]
  },
  {
   "cell_type": "code",
   "execution_count": 80,
   "metadata": {
    "colab": {
     "base_uri": "https://localhost:8080/",
     "height": 248
    },
    "id": "ToHdcRkinGv5",
    "outputId": "223b870f-0e5b-466c-f09e-a2c0f223fefc"
   },
   "outputs": [
    {
     "data": {
      "image/png": "[encoded data removed]",
      "text/plain": [
       "<Figure size 432x288 with 1 Axes>"
      ]
     },
     "metadata": {},
     "output_type": "display_data"
    }
   ],
   "source": [
    "labels = 'train', 'validation', 'Test'\n",
    "sizes = [len(train_data), len(valid_data), len(test_data)]\n",
    "fig1, ax1 = plt.subplots()\n",
    "ax1.pie(sizes, labels=labels, autopct='%1.1f%%',\n",
    "         startangle=90)\n",
    "plt.show()"
   ]
  },
  {
   "cell_type": "code",
   "execution_count": 81,
   "metadata": {
    "colab": {
     "base_uri": "https://localhost:8080/"
    },
    "id": "rgSKVVYRHND8",
    "outputId": "fb65ba32-0758-44df-c086-21fe0fcfa4fb"
   },
   "outputs": [
    {
     "name": "stdout",
     "output_type": "stream",
     "text": [
      "Training set:  637\n",
      "valid set: 251\n",
      "Test set: 375\n",
      "Number of classes: 15\n"
     ]
    }
   ],
   "source": [
    "print(\"Training set: \",len(train_data))\n",
    "print(\"valid set:\", len(valid_data))\n",
    "print(\"Test set:\", len(test_data))\n",
    "print('Number of classes: '+str(len(train_data.classes)))"
   ]
  },
  {
   "cell_type": "code",
   "execution_count": 82,
   "metadata": {
    "colab": {
     "base_uri": "https://localhost:8080/",
     "height": 173
    },
    "id": "L4yV7-R-7Kyz",
    "outputId": "c4ccd29a-3bea-413b-eeaa-cd608dd74e5f"
   },
   "outputs": [
    {
     "name": "stderr",
     "output_type": "stream",
     "text": [
      "WARNING:matplotlib.image:Clipping input data to the valid range for imshow with RGB data ([0..1] for floats or [0..255] for integers).\n"
     ]
    },
    {
     "name": "stdout",
     "output_type": "stream",
     "text": [
      "McLaren-MP4-12C-Coupe-2012 -- Audi-TT-RS-Coupe-2012 -- McLaren-MP4-12C-Coupe-2012 -- BMW-X5-SUV-2007\n"
     ]
    },
    {
     "data": {
      "image/png": "[encoded data removed]",
      "text/plain": [
       "<Figure size 432x288 with 1 Axes>"
      ]
     },
     "metadata": {
      "needs_background": "light"
     },
     "output_type": "display_data"
    }
   ],
   "source": [
    "def imshow(img):\n",
    "    img = img / 2 + 0.5     \n",
    "    npimg = img.numpy()\n",
    "    plt.imshow(np.transpose(npimg, (1, 2, 0))) \n",
    "    plt.show()\n",
    "\n",
    "# get some random training images\n",
    "dataiter = iter(train_load)\n",
    "images, labels = dataiter.next()\n",
    "\n",
    "print(' -- '.join('%5s' % train_data.classes[labels[j]] for j in range(4)))\n",
    "# show images\n",
    "imshow(torchvision.utils.make_grid(images))"
   ]
  },
  {
   "cell_type": "markdown",
   "metadata": {
    "id": "XG9jrKpRw-xN"
   },
   "source": [
    "## 2. Convolutional Neural Network Architecture\n",
    "Load the CNN architecture you were given using pretrained weights. Define the optimizer and loss function. Train your network and save it. Remember to use Early stopping and show results."
   ]
  },
  {
   "cell_type": "markdown",
   "metadata": {
    "id": "5sgTC3NxxxRx"
   },
   "source": [
    "#### Load the architecture"
   ]
  },
  {
   "cell_type": "code",
   "execution_count": 83,
   "metadata": {
    "id": "GAmr4k_Rx3QF"
   },
   "outputs": [],
   "source": [
    "import warnings\n",
    "warnings.filterwarnings('ignore')\n",
    "model = models.alexnet(pretrained=True)\n",
    "\n"
   ]
  },
  {
   "cell_type": "code",
   "execution_count": 84,
   "metadata": {
    "id": "aNzKhdlRKF7i"
   },
   "outputs": [],
   "source": [
    "for param in model.parameters():\n",
    "    param.requires_grad = False\n",
    "model.classifier[6] = nn.Linear(model.classifier[6].in_features, len(classes_m))\n"
   ]
  },
  {
   "cell_type": "markdown",
   "metadata": {
    "id": "QDmjzUaax3lH"
   },
   "source": [
    "\n",
    "#### Define your optimizer and loss function"
   ]
  },
  {
   "cell_type": "code",
   "execution_count": 85,
   "metadata": {
    "colab": {
     "base_uri": "https://localhost:8080/"
    },
    "id": "QXzld7Pwx8Md",
    "outputId": "11398488-6947-4851-d8cd-bb3b3c243419"
   },
   "outputs": [
    {
     "name": "stdout",
     "output_type": "stream",
     "text": [
      "cuda:0\n"
     ]
    }
   ],
   "source": [
    "device = torch.device(\"cuda:0\" if torch.cuda.is_available() else \"cpu\")\n",
    "print(device)\n",
    "model = model.to(device)\n",
    "criterion = nn.CrossEntropyLoss()\n",
    "optimizer = optim.SGD(model.classifier.parameters(), lr=0.001, momentum=0.9)\n",
    "schedulr = lr_scheduler.StepLR(optimizer, step_size=7, gamma=0.1)\n"
   ]
  },
  {
   "cell_type": "code",
   "execution_count": 86,
   "metadata": {
    "colab": {
     "base_uri": "https://localhost:8080/"
    },
    "id": "lCO1TtrpASnu",
    "outputId": "b478fd1e-cd94-426d-c582-d802042cbeda"
   },
   "outputs": [
    {
     "data": {
      "text/plain": [
       "AlexNet(\n",
       "  (features): Sequential(\n",
       "    (0): Conv2d(3, 64, kernel_size=(11, 11), stride=(4, 4), padding=(2, 2))\n",
       "    (1): ReLU(inplace=True)\n",
       "    (2): MaxPool2d(kernel_size=3, stride=2, padding=0, dilation=1, ceil_mode=False)\n",
       "    (3): Conv2d(64, 192, kernel_size=(5, 5), stride=(1, 1), padding=(2, 2))\n",
       "    (4): ReLU(inplace=True)\n",
       "    (5): MaxPool2d(kernel_size=3, stride=2, padding=0, dilation=1, ceil_mode=False)\n",
       "    (6): Conv2d(192, 384, kernel_size=(3, 3), stride=(1, 1), padding=(1, 1))\n",
       "    (7): ReLU(inplace=True)\n",
       "    (8): Conv2d(384, 256, kernel_size=(3, 3), stride=(1, 1), padding=(1, 1))\n",
       "    (9): ReLU(inplace=True)\n",
       "    (10): Conv2d(256, 256, kernel_size=(3, 3), stride=(1, 1), padding=(1, 1))\n",
       "    (11): ReLU(inplace=True)\n",
       "    (12): MaxPool2d(kernel_size=3, stride=2, padding=0, dilation=1, ceil_mode=False)\n",
       "  )\n",
       "  (avgpool): AdaptiveAvgPool2d(output_size=(6, 6))\n",
       "  (classifier): Sequential(\n",
       "    (0): Dropout(p=0.5, inplace=False)\n",
       "    (1): Linear(in_features=9216, out_features=4096, bias=True)\n",
       "    (2): ReLU(inplace=True)\n",
       "    (3): Dropout(p=0.5, inplace=False)\n",
       "    (4): Linear(in_features=4096, out_features=4096, bias=True)\n",
       "    (5): ReLU(inplace=True)\n",
       "    (6): Linear(in_features=4096, out_features=15, bias=True)\n",
       "  )\n",
       ")"
      ]
     },
     "execution_count": 86,
     "metadata": {},
     "output_type": "execute_result"
    }
   ],
   "source": [
    "model.eval()"
   ]
  },
  {
   "cell_type": "markdown",
   "metadata": {
    "id": "DbYtFGbXx7iP"
   },
   "source": [
    "#### Train your network"
   ]
  },
  {
   "cell_type": "code",
   "execution_count": 87,
   "metadata": {
    "id": "cRpJtn_zxDTG"
   },
   "outputs": [],
   "source": [
    "class EarlyStopping(object):\n",
    "    def __init__(self, mode='min', min_delta=0, patience=10, percentage=False):\n",
    "        self.mode = mode\n",
    "        self.min_delta = min_delta\n",
    "        self.patience = patience\n",
    "        self.best = None\n",
    "        self.num_bad_epochs = 0\n",
    "        self.is_better = None\n",
    "        self._init_is_better(mode, min_delta, percentage)\n",
    "\n",
    "        if patience == 0:\n",
    "            self.is_better = lambda a, b: True\n",
    "            self.step = lambda a: False\n",
    "\n",
    "    def step(self, metrics):\n",
    "        if self.best is None:\n",
    "            self.best = metrics\n",
    "            return False\n",
    "\n",
    "        if np.isnan(metrics):\n",
    "            return True\n",
    "\n",
    "        if self.is_better(metrics, self.best):\n",
    "            self.num_bad_epochs = 0\n",
    "            self.best = metrics\n",
    "        else:\n",
    "            self.num_bad_epochs += 1\n",
    "            print(f'Early Stop Counter: {self.num_bad_epochs}')\n",
    "\n",
    "        if self.num_bad_epochs >= self.patience:\n",
    "            return True\n",
    "\n",
    "        return False\n",
    "\n",
    "    def _init_is_better(self, mode, min_delta, percentage):\n",
    "        if mode not in {'min', 'max'}:\n",
    "            raise ValueError('mode ' + mode + ' is unknown!')\n",
    "        if not percentage:\n",
    "            if mode == 'min':\n",
    "                self.is_better = lambda a, best: a < best - min_delta\n",
    "            if mode == 'max':\n",
    "                self.is_better = lambda a, best: a > best + min_delta\n",
    "        else:\n",
    "            if mode == 'min':\n",
    "                self.is_better = lambda a, best: a < best - (\n",
    "                            best * min_delta / 100)\n",
    "            if mode == 'max':\n",
    "                self.is_better = lambda a, best: a > best + (\n",
    "                            best * min_delta / 100)"
   ]
  },
  {
   "cell_type": "code",
   "execution_count": 88,
   "metadata": {
    "id": "QOx-jccoCudj"
   },
   "outputs": [],
   "source": [
    "early_stopping = EarlyStopping()"
   ]
  },
  {
   "cell_type": "code",
   "execution_count": 89,
   "metadata": {
    "id": "x5FpzU99RWET"
   },
   "outputs": [],
   "source": [
    "def train_model(model, criterion, optimizer, scheduler, num_epochs=20, patience=5):\n",
    "    best_model_wts = copy.deepcopy(model.state_dict())\n",
    "    best_acc = 0.0\n",
    "\n",
    "    train_loss = []\n",
    "    train_acc = []\n",
    "    test_loss = []\n",
    "    test_acc = []\n",
    "\n",
    "    es = EarlyStopping(patience=patience)\n",
    "    terminate_training = False\n",
    "    for epoch in range(num_epochs): \n",
    "        print('Epoch {}/{}'.format(epoch +1, num_epochs))\n",
    "        print('-' * 10)\n",
    "\n",
    "        # Each epoch has a training and test phase\n",
    "        for phase in ['train', 'test','val']:\n",
    "            if phase == 'train':\n",
    "                model.train()  # Set model to training mode\n",
    "            else:\n",
    "                model.eval()   # Set model to evaluate mode\n",
    "\n",
    "            running_loss = 0.0\n",
    "            running_corrects = 0\n",
    "            datasett = [valid_load if phase == 'val' else ([train_load if phase == 'train' else test_load][0])][0]\n",
    "            for inputs, labels in datasett:\n",
    "                inputs = inputs.to(device)\n",
    "                labels = labels.to(device)\n",
    "\n",
    "                optimizer.zero_grad()\n",
    "\n",
    "                # forward\n",
    "                with torch.set_grad_enabled(phase == 'train'):\n",
    "                    outputs = model(inputs)\n",
    "                    _, preds = torch.max(outputs, 1)\n",
    "                    loss = criterion(outputs, labels)\n",
    "\n",
    "                    # backward + optimize only if in training phase\n",
    "                    if phase == 'train':\n",
    "                        loss.backward()\n",
    "                        optimizer.step()\n",
    "\n",
    "                running_loss += loss.item() * inputs.size(0)\n",
    "                running_corrects += torch.sum(preds == labels.data)\n",
    "            if phase == 'train':\n",
    "                scheduler.step()\n",
    "\n",
    "            epoch_loss = running_loss / len(datasett.dataset)\n",
    "            epoch_acc = 100 * running_corrects.double() / len(datasett.dataset)\n",
    "            print('{} Loss: {:.4f} Acc: {:.4f}'.format(\n",
    "                phase, epoch_loss, epoch_acc))\n",
    "            \n",
    "            # Save the information for the graph\n",
    "            if phase == \"train\":\n",
    "              train_loss.append(float(\"{0:.4f}\".format(epoch_loss)))\n",
    "              train_acc.append(float(\"{0:.4f}\".format(epoch_acc)))\n",
    "            elif phase == \"test\":\n",
    "              test_loss.append(float(\"{0:.4f}\".format(epoch_loss)))\n",
    "              test_acc.append(float(\"{0:.4f}\".format(epoch_acc)))\n",
    "\n",
    "            # Early stop\n",
    "            if phase == 'val' and es.step(epoch_loss):\n",
    "                terminate_training = True\n",
    "                print('early stop criterion is met, we can stop now')\n",
    "\n",
    "            # deep copy the model\n",
    "            if (phase == 'test' and epoch_acc > best_acc) or (terminate_training): \n",
    "                best_acc = epoch_acc\n",
    "                best_model_wts = copy.deepcopy(model.state_dict())\n",
    "\n",
    "                if terminate_training:\n",
    "                  break\n",
    "\n",
    "        print()\n",
    "\n",
    "    # time_elapsed = time.time() - since\n",
    "    print('Training complete')\n",
    "    print('Best Acc: {:4f}'.format(best_acc))\n",
    "\n",
    "    # load best model weights\n",
    "    model.load_state_dict(best_model_wts)\n",
    "\n",
    "    # display graph\n",
    "    accuracies = {\"train_acc\" : train_acc, \"test_acc\": test_acc, \"train_loss\" : train_loss, \"test_loss\": test_loss }\n",
    "\n",
    "    return model, accuracies"
   ]
  },
  {
   "cell_type": "code",
   "execution_count": 90,
   "metadata": {
    "colab": {
     "base_uri": "https://localhost:8080/"
    },
    "id": "2u9hbrxURcn7",
    "outputId": "01b9daa3-8339-4210-8274-ebf95a7e9dc5"
   },
   "outputs": [
    {
     "name": "stdout",
     "output_type": "stream",
     "text": [
      "Epoch 1/20\n",
      "----------\n",
      "train Loss: 3.6992 Acc: 29.8273\n",
      "test Loss: 3.6925 Acc: 40.2667\n",
      "val Loss: 3.5530 Acc: 47.4104\n",
      "\n",
      "Epoch 2/20\n",
      "----------\n",
      "train Loss: 3.3898 Acc: 44.2700\n",
      "test Loss: 3.2899 Acc: 46.9333\n",
      "val Loss: 2.8299 Acc: 52.1912\n",
      "\n",
      "Epoch 3/20\n",
      "----------\n",
      "train Loss: 3.1598 Acc: 49.2936\n",
      "test Loss: 2.9122 Acc: 51.2000\n",
      "val Loss: 2.6357 Acc: 56.1753\n",
      "\n",
      "Epoch 4/20\n",
      "----------\n",
      "train Loss: 3.2138 Acc: 53.2182\n",
      "test Loss: 2.6189 Acc: 54.9333\n",
      "val Loss: 2.6596 Acc: 61.3546\n",
      "Early Stop Counter: 1\n",
      "\n",
      "Epoch 5/20\n",
      "----------\n",
      "train Loss: 2.5869 Acc: 57.9278\n",
      "test Loss: 2.7829 Acc: 55.2000\n",
      "val Loss: 2.6360 Acc: 60.9562\n",
      "Early Stop Counter: 2\n",
      "\n",
      "Epoch 6/20\n",
      "----------\n",
      "train Loss: 2.5508 Acc: 55.1020\n",
      "test Loss: 2.8696 Acc: 53.6000\n",
      "val Loss: 3.5773 Acc: 50.1992\n",
      "Early Stop Counter: 3\n",
      "\n",
      "Epoch 7/20\n",
      "----------\n",
      "train Loss: 2.3718 Acc: 61.2245\n",
      "test Loss: 2.4834 Acc: 58.9333\n",
      "val Loss: 3.1112 Acc: 57.3705\n",
      "Early Stop Counter: 4\n",
      "\n",
      "Epoch 8/20\n",
      "----------\n",
      "train Loss: 1.8336 Acc: 66.2480\n",
      "test Loss: 2.0449 Acc: 65.0667\n",
      "val Loss: 2.2605 Acc: 64.9402\n",
      "\n",
      "Epoch 9/20\n",
      "----------\n",
      "train Loss: 1.4462 Acc: 67.3469\n",
      "test Loss: 1.9798 Acc: 65.0667\n",
      "val Loss: 2.1129 Acc: 65.3386\n",
      "\n",
      "Epoch 10/20\n",
      "----------\n",
      "train Loss: 1.3363 Acc: 72.2135\n",
      "test Loss: 1.8334 Acc: 66.1333\n",
      "val Loss: 1.9496 Acc: 66.1355\n",
      "\n",
      "Epoch 11/20\n",
      "----------\n",
      "train Loss: 1.3378 Acc: 71.2716\n",
      "test Loss: 1.7724 Acc: 66.1333\n",
      "val Loss: 1.9446 Acc: 65.7371\n",
      "\n",
      "Epoch 12/20\n",
      "----------\n",
      "train Loss: 1.1883 Acc: 72.6845\n",
      "test Loss: 1.7480 Acc: 64.8000\n",
      "val Loss: 1.9480 Acc: 64.1434\n",
      "Early Stop Counter: 1\n",
      "\n",
      "Epoch 13/20\n",
      "----------\n",
      "train Loss: 1.2413 Acc: 73.3124\n",
      "test Loss: 1.7916 Acc: 67.2000\n",
      "val Loss: 1.8143 Acc: 66.5339\n",
      "\n",
      "Epoch 14/20\n",
      "----------\n",
      "train Loss: 1.1882 Acc: 72.5275\n",
      "test Loss: 1.6905 Acc: 67.2000\n",
      "val Loss: 1.8735 Acc: 64.9402\n",
      "Early Stop Counter: 1\n",
      "\n",
      "Epoch 15/20\n",
      "----------\n",
      "train Loss: 1.1731 Acc: 73.3124\n",
      "test Loss: 1.6668 Acc: 67.4667\n",
      "val Loss: 1.8153 Acc: 66.5339\n",
      "Early Stop Counter: 2\n",
      "\n",
      "Epoch 16/20\n",
      "----------\n",
      "train Loss: 1.1886 Acc: 75.3532\n",
      "test Loss: 1.6528 Acc: 67.4667\n",
      "val Loss: 1.7877 Acc: 66.5339\n",
      "\n",
      "Epoch 17/20\n",
      "----------\n",
      "train Loss: 1.0327 Acc: 75.3532\n",
      "test Loss: 1.6422 Acc: 66.9333\n",
      "val Loss: 1.7720 Acc: 67.3307\n",
      "\n",
      "Epoch 18/20\n",
      "----------\n",
      "train Loss: 1.2140 Acc: 71.4286\n",
      "test Loss: 1.6301 Acc: 66.9333\n",
      "val Loss: 1.7581 Acc: 66.9323\n",
      "\n",
      "Epoch 19/20\n",
      "----------\n",
      "train Loss: 1.0082 Acc: 74.4113\n",
      "test Loss: 1.6211 Acc: 67.4667\n",
      "val Loss: 1.7567 Acc: 66.9323\n",
      "\n",
      "Epoch 20/20\n",
      "----------\n",
      "train Loss: 1.0431 Acc: 75.5102\n",
      "test Loss: 1.6158 Acc: 67.7333\n",
      "val Loss: 1.7521 Acc: 66.1355\n",
      "\n",
      "Training complete\n",
      "Best Acc: 67.733333\n"
     ]
    }
   ],
   "source": [
    "model, accuracies = train_model(model, criterion, optimizer,\n",
    "                         schedulr, num_epochs=20)"
   ]
  },
  {
   "cell_type": "markdown",
   "metadata": {
    "id": "-Vyv_TOryBnE"
   },
   "source": [
    "#### Show results (accuracy and loss) on training and validation sets"
   ]
  },
  {
   "cell_type": "code",
   "execution_count": 91,
   "metadata": {
    "id": "XobFy1ykY2m6"
   },
   "outputs": [],
   "source": [
    "def results():\n",
    "  fig = plt.figure(figsize=(10,5))\n",
    "  plt.title(\"Train and Test Accuracy\")\n",
    "  plt.plot(accuracies[\"train_acc\"], label='train accuracy')\n",
    "  plt.plot(accuracies[\"test_acc\"], label='test accuracy')\n",
    "  plt.xlabel('num_epochs', fontsize=12)\n",
    "  plt.ylabel('accuracy', fontsize=12)\n",
    "  plt.legend(loc='best')\n",
    "  plt.show()\n",
    "\n",
    "  # Loss  graph\n",
    "  fig = plt.figure(figsize=(10,5))\n",
    "  plt.title(\"Train and Test Loss\")\n",
    "  plt.plot(accuracies[\"train_loss\"], label='train loss')\n",
    "  plt.plot(accuracies[\"test_loss\"], label='test loss')\n",
    "  plt.xlabel('num_epochs', fontsize=12)\n",
    "  plt.ylabel('accuracy', fontsize=12)\n",
    "  plt.legend(loc='best')\n",
    "  plt.show()"
   ]
  },
  {
   "cell_type": "code",
   "execution_count": 92,
   "metadata": {
    "colab": {
     "base_uri": "https://localhost:8080/",
     "height": 689
    },
    "id": "YmDwSSeFZv9j",
    "outputId": "788f7150-8918-4212-ca1b-43828f058e2a"
   },
   "outputs": [
    {
     "data": {
      "image/png": "[encoded data removed]",
      "text/plain": [
       "<Figure size 720x360 with 1 Axes>"
      ]
     },
     "metadata": {
      "needs_background": "light"
     },
     "output_type": "display_data"
    },
    {
     "data": {
      "image/png": "[encoded data removed]",
      "text/plain": [
       "<Figure size 720x360 with 1 Axes>"
      ]
     },
     "metadata": {
      "needs_background": "light"
     },
     "output_type": "display_data"
    }
   ],
   "source": [
    "results()"
   ]
  },
  {
   "cell_type": "markdown",
   "metadata": {
    "id": "-wL-oYMJyKAU"
   },
   "source": [
    "## 3. Conclusion (Evaluation)\n",
    "Load your trained CNN and evaluate it on the test set. Show some predictions on the test set (3 is enough) by ploting the image and printing the prediction and ground truth.\n",
    "\n",
    "How good are your results? Do you think the network is overfitted or underfitted? If yes, what do you think lead to that? If not, justify."
   ]
  },
  {
   "cell_type": "markdown",
   "metadata": {
    "id": "91bFm41IzLMr"
   },
   "source": [
    "#### Evaluate your model"
   ]
  },
  {
   "cell_type": "code",
   "execution_count": 93,
   "metadata": {
    "id": "urDwdgZUyMZQ"
   },
   "outputs": [],
   "source": [
    "def eval():\n",
    "  correct_predictions = 0\n",
    "  total_pred = 0\n",
    "  with torch.no_grad():\n",
    "      for inputs, labels in test_load:\n",
    "          inputs = inputs.to(device)\n",
    "          labels = labels.to(device)\n",
    "          outputs = model(inputs)\n",
    "          _, predicted = torch.max(outputs.data, 1)\n",
    "          total_pred += labels.size(0)\n",
    "          correct_predictions += (predicted == labels).sum().item()\n",
    "  print('Accuracy of the CNN with test inputs: %d %%' % (100 * correct_predictions / total_pred))"
   ]
  },
  {
   "cell_type": "code",
   "execution_count": 94,
   "metadata": {
    "colab": {
     "base_uri": "https://localhost:8080/"
    },
    "id": "VrRiVk45NjIM",
    "outputId": "3d37be80-fcce-4424-a858-02f050a4b896"
   },
   "outputs": [
    {
     "name": "stdout",
     "output_type": "stream",
     "text": [
      "Accuracy of the CNN with test inputs: 67 %\n"
     ]
    }
   ],
   "source": [
    "eval()"
   ]
  },
  {
   "cell_type": "markdown",
   "metadata": {
    "id": "ZYwVBU9LzOHN"
   },
   "source": [
    "#### Show some predictions"
   ]
  },
  {
   "cell_type": "code",
   "execution_count": 95,
   "metadata": {
    "colab": {
     "base_uri": "https://localhost:8080/",
     "height": 191
    },
    "id": "jNV0J9LKzPse",
    "outputId": "e9f35735-a82c-45bb-a33d-1b0ee9022e86"
   },
   "outputs": [
    {
     "name": "stderr",
     "output_type": "stream",
     "text": [
      "WARNING:matplotlib.image:Clipping input data to the valid range for imshow with RGB data ([0..1] for floats or [0..255] for integers).\n"
     ]
    },
    {
     "name": "stdout",
     "output_type": "stream",
     "text": [
      "Real-Data  Audi-TT-RS-Coupe-2012 -- Mercedes-Benz-Sprinter-Van-2012 -- AM-General-Hummer-SUV-2000 -- Porsche-Panamera-Sedan-2012\n"
     ]
    },
    {
     "data": {
      "image/png": "[encoded data removed]",
      "text/plain": [
       "<Figure size 432x288 with 1 Axes>"
      ]
     },
     "metadata": {
      "needs_background": "light"
     },
     "output_type": "display_data"
    },
    {
     "name": "stdout",
     "output_type": "stream",
     "text": [
      "Predicted:  Audi-TT-RS-Coupe-2012 -- Mercedes-Benz-Sprinter-Van-2012 -- Tesla-Model-S-Sedan-2012 -- Porsche-Panamera-Sedan-2012\n"
     ]
    }
   ],
   "source": [
    "def imshow(img):\n",
    "    img = img / 2 + 0.5     \n",
    "    npimg = img.numpy()\n",
    "    plt.imshow(np.transpose(npimg, (1, 2, 0))) \n",
    "    plt.show()\n",
    "# get some random training images\n",
    "dataiter = iter(train_load)\n",
    "images, labels = dataiter.next()\n",
    "print('Real-Data ',' -- '.join('%5s' % train_data.classes[labels[j]] for j in range(4)))\n",
    "# show images\n",
    "imshow(torchvision.utils.make_grid(images))\n",
    "images = images.to(device)\n",
    "labels = labels.to(device)\n",
    "outputs = model(images)\n",
    "_, predicted = torch.max(outputs, 1)\n",
    "\n",
    "print('Predicted: ', ' -- '.join('%5s' % train_data.classes[predicted[j]]\n",
    "                              for j in range(4)))"
   ]
  },
  {
   "cell_type": "markdown",
   "metadata": {
    "id": "4sFvmHPRzQSI"
   },
   "source": [
    "#### Answer the questions"
   ]
  },
  {
   "cell_type": "markdown",
   "metadata": {
    "id": "NeyKULhxoyfA"
   },
   "source": [
    "##We can see that the model has a very low accuracy in the beginning but it improves significantly with just a few epochs\n",
    "##The model is neither overfitting nor underfitting as we can see from the plot that the accuracies of the train and valid set are almost the same"
   ]
  }
 ],
 "metadata": {
  "accelerator": "GPU",
  "colab": {
   "collapsed_sections": [],
   "provenance": []
  },
  "kernelspec": {
   "display_name": "Python 3 (ipykernel)",
   "language": "python",
   "name": "python3"
  },
  "language_info": {
   "codemirror_mode": {
    "name": "ipython",
    "version": 3
   },
   "file_extension": ".py",
   "mimetype": "text/x-python",
   "name": "python",
   "nbconvert_exporter": "python",
   "pygments_lexer": "ipython3",
   "version": "3.10.7"
  }
 },
 "nbformat": 4,
 "nbformat_minor": 1
}
